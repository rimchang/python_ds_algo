{
 "cells": [
  {
   "cell_type": "markdown",
   "metadata": {},
   "source": [
    "# Graph\n",
    "\n",
    "undirected Graph\n",
    "\n",
    "directed Graph\n",
    "\n",
    "## Hamiltonian path\n",
    "\n",
    "모든 노드 방문하는 path 찾기\n",
    "\n",
    "- it is a path in an undirected or directed graph that visits each vertex exactly once\n",
    "    - 각각의 vertex를 한번씩만 방문하는 path\n",
    "- Hamiltonian cycle is a Hamiltonian path that is a cycle\n",
    "- determining whether such paths and cycles exist in graphs is np-complete\n",
    "- simulation...\n",
    "\n",
    "- traveling salesman problem relies on hamiltonian cycles\n",
    "- tsp problem : given a list of cities and the distances between each pair of cities, what is the shortest possible route that visit each city exactly once and returns to the origin city?\n",
    "    - TSP : N개의 도시들 중에서 시작점에서 출발해서 모든 노드를 방문하고 다시 시작점으로 돌아오는 가장 짧은 길은?\n",
    "- if there is a hamitoninan path for a graph : it is the solution for the traveling salesman problem\n",
    "- np-complete problem\n",
    "\n",
    "## Eulerian path\n",
    "\n",
    "한붓그리기.\n",
    "\n",
    "- it is a trail in a graph which visits every edge exactly once\n",
    "- eulerian cycle is an eulerian trail which starts and ends on the same vertext\n",
    "- an undirected graph has an eulerian cycle if and only if every vertex has even degree\n",
    "- we can construct graphs that has eulerian cycles with heirholzer algorithm.. important for the chinese postman problem\n",
    "- chinese postman problem: a postman needs to go through every street at least once + closed circuit + want to find a shortest path\n",
    "    - CPP : 모든 EDGE들을 방문하고.. 가장 짧은 길은?\n",
    "- if there is an eulerian cycle -> that is the solution for the CPP"
   ]
  },
  {
   "cell_type": "markdown",
   "metadata": {},
   "source": [
    "## Euler Cycle\n",
    "\n",
    "### Our goal is to find a cycle in a given graph that visits every edge exactly once\n",
    "- euler's thm : connectd undirected graph is an euler graph if and only if every node on the graph is of even degree ( the number of edges from the given node is even)\n",
    "- two main algorithms : fleury algorithm , hierholzer algorithm\n",
    "- hierholzer is a bit more efficient -> it has linear time complexity\n",
    "\n",
    "### Fleury's algorithm\n",
    "\n",
    "method for finding euler cycles  \n",
    "it is not so efficient\n",
    "\n",
    "#### Rules\n",
    "1. pick any vertex to start\n",
    "2. from that vertex pick an edge to traverse ( you can't traverse it again)\n",
    "3. travel that edge\n",
    "4. repeat until all the edges are traversed  \n",
    "IMPORTANT : nerver cross a bridge of the reduced graph unless there is no other choice // bridge : that can separates the graph into two subgraphs\n",
    "\n",
    "\n",
    "### Hierholzer algorithm\n",
    "\n",
    "an algorithm to find an eulerian circuit in a connected graph in which every vertex has even degree  \n",
    "\n",
    "#### Rules\n",
    "we have to maintain two stacks\n",
    "1. initially all the edges are unvisited\n",
    "2. choose any vertex v and push it onto a stack\n",
    "3. while the stack is nonempty, look at the top vertex, u, on the stack. if u has an unmarked incident edge, say, to a vertex w, then push w onto the stack and mark the edge (u,w) if u has no unmarked incident edge, then pop u off the stack and print it\n",
    "\n",
    "4. the algorithm terminates when the stack will become empty\n"
   ]
  }
 ],
 "metadata": {
  "kernelspec": {
   "display_name": "Python 3",
   "language": "python",
   "name": "python3"
  },
  "language_info": {
   "codemirror_mode": {
    "name": "ipython",
    "version": 3
   },
   "file_extension": ".py",
   "mimetype": "text/x-python",
   "name": "python",
   "nbconvert_exporter": "python",
   "pygments_lexer": "ipython3",
   "version": "3.5.2"
  }
 },
 "nbformat": 4,
 "nbformat_minor": 2
}
