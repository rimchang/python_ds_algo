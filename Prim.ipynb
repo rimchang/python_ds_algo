{
 "cells": [
  {
   "cell_type": "markdown",
   "metadata": {},
   "source": [
    "# Prims Algorithms\n",
    "\n",
    "- 크루스칼 알고리즘에서는 edge를 중심으로 tree를 만들어 나갔다.\n",
    "- 프림 알고리즘에서는 vertex를 중심으로 진행된다.\n",
    "- lazy, eage의 두가지 구현방식이 있다\n",
    "- lazy : heap을 사용하여 새로운 edge를 추가한다. \n",
    "- eager : MST와 vertex간의 거리가 바뀌면 heap을 업데이트한다.\n",
    "- Average running time O(E\\*logE) 이며 공간 복잡도는 O(E)이다\n",
    "- Worst case는 O(E\\*logV)\n",
    "\n",
    "- 많은 edge, vertice를 가진 dense graph일 경우 프림알고리즘이 빠르다\n",
    "- Prim 알고리즘은 vertice당 edge갯수가 많은 경우 더 빠르다(dense graph)\n",
    "- 크루스칼이 간단한 data structure를 사용하며 일반적 (Sparse graph)에서 더 빠르다.\n",
    "- 크루스칼은 edge를 빠르게 정렬 할 수 있거나 이미 정렬된 경우 더 빨라질 수 있다.\n"
   ]
  },
  {
   "cell_type": "code",
   "execution_count": 16,
   "metadata": {},
   "outputs": [
    {
     "name": "stdout",
     "output_type": "stream",
     "text": [
      "edge added to spanning tree : B - C\n",
      "edge added to spanning tree : B - D\n",
      "edge added to spanning tree : B - A\n"
     ]
    }
   ],
   "source": [
    "import heapq\n",
    "from functools import total_ordering\n",
    "\n",
    "\n",
    "class Vertex():\n",
    "    \n",
    "    def __init__(self, name):\n",
    "        self.name = name\n",
    "        self.visited = False\n",
    "        self.predecessor = None\n",
    "        self.adjList = []\n",
    "        \n",
    "    def __str__(self):\n",
    "        return self.name\n",
    "\n",
    "@total_ordering\n",
    "class Edge():\n",
    "    \n",
    "    def __init__(self, weight, startVertex, targetVertex):\n",
    "        self.weight = weight\n",
    "        self.startVertex = startVertex\n",
    "        self.targetVertex = targetVertex\n",
    "        \n",
    "    def __lt__(self, other):\n",
    "        return self.weight < other.weight\n",
    "    \n",
    "    def __eq__(self, other):\n",
    "        return self.weight == other.weight\n",
    "    \n",
    "class Prim():\n",
    "    \n",
    "    def __init__(self, unvisitedList):\n",
    "        self.unvisitedList = unvisitedList\n",
    "        self.spanningTree = []\n",
    "        self.edgeHeap = []\n",
    "        self.fullCost = 0\n",
    "        \n",
    "    def calculateSpanningTree(self, vertex):\n",
    "        \n",
    "        self.unvisitedList.remove(vertex)\n",
    "        \n",
    "        while self.unvisitedList:\n",
    "            \n",
    "            for edge in vertex.adjList:\n",
    "                if edge.targetVertex in self.unvisitedList:\n",
    "                    heapq.heappush(self.edgeHeap, edge)\n",
    "                    \n",
    "            minEdge = heapq.heappop(self.edgeHeap)\n",
    "            \n",
    "            if minEdge.targetVertex not in unvisitedList:\n",
    "                continue\n",
    "            \n",
    "            self.spanningTree.append(minEdge)\n",
    "            \n",
    "            print(\"edge added to spanning tree : %s - %s\" % (minEdge.startVertex.name, minEdge.targetVertex.name))\n",
    "            self.fullCost += minEdge.weight\n",
    "            \n",
    "            vertex = minEdge.targetVertex\n",
    "            self.unvisitedList.remove(vertex)\n",
    "            \n",
    "    def getSpanningTree(self):\n",
    "        return self.spanningTree\n",
    "    \n",
    "    \n",
    "node1 = Vertex(\"A\");\n",
    "node2 = Vertex(\"B\");\n",
    "node3 = Vertex(\"C\");\n",
    "node4 = Vertex(\"D\");\n",
    "\n",
    "edge1 = Edge(100,node1,node2);\n",
    "edge2 = Edge(100,node2,node1);\n",
    "edge3 = Edge(1000,node1,node3);\n",
    "edge4 = Edge(1000,node3,node1);\n",
    "edge5 = Edge(0.01,node3,node2);\n",
    "edge6 = Edge(0.01,node2,node3);\n",
    "edge7 = Edge(54,node4,node2);\n",
    "edge8 = Edge(54,node2,node4);\n",
    "\n",
    "node1.adjList.append(edge1);\n",
    "node1.adjList.append(edge3);\n",
    "node2.adjList.append(edge2);\n",
    "node2.adjList.append(edge6);\n",
    "node2.adjList.append(edge8)\n",
    "node3.adjList.append(edge4);\n",
    "node3.adjList.append(edge5);\n",
    "node4.adjList.append(edge7);\n",
    "\n",
    "\n",
    "unvisitedList = [];\n",
    "unvisitedList.append(node1);\n",
    "unvisitedList.append(node2);\n",
    "unvisitedList.append(node3);\n",
    "unvisitedList.append(node4);\n",
    "\n",
    "algorithm = Prim(unvisitedList);\n",
    "algorithm.calculateSpanningTree(node2);"
   ]
  },
  {
   "cell_type": "code",
   "execution_count": 15,
   "metadata": {},
   "outputs": [
    {
     "data": {
      "text/plain": [
       "[<__main__.Edge at 0x7f0198286978>, <__main__.Edge at 0x7f0198286860>]"
      ]
     },
     "execution_count": 15,
     "metadata": {},
     "output_type": "execute_result"
    }
   ],
   "source": [
    "algorithm.getSpanningTree()"
   ]
  },
  {
   "cell_type": "code",
   "execution_count": null,
   "metadata": {
    "collapsed": true
   },
   "outputs": [],
   "source": []
  }
 ],
 "metadata": {
  "kernelspec": {
   "display_name": "Python 3",
   "language": "python",
   "name": "python3"
  },
  "language_info": {
   "codemirror_mode": {
    "name": "ipython",
    "version": 3
   },
   "file_extension": ".py",
   "mimetype": "text/x-python",
   "name": "python",
   "nbconvert_exporter": "python",
   "pygments_lexer": "ipython3",
   "version": "3.6.0"
  }
 },
 "nbformat": 4,
 "nbformat_minor": 2
}
