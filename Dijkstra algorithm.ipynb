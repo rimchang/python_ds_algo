{
 "cells": [
  {
   "cell_type": "markdown",
   "metadata": {
    "deletable": true,
    "editable": true
   },
   "source": [
    "# Shortest path\n",
    "\n",
    "shortest path problem : finding a path between two vertices in a graph such taht the sum of the weights of its edges is minimized\n",
    "    - edge들의 weight sum 을 최소한으로 하는 두 vertext 사이의 path 를 찾는 문제\n",
    "    \n",
    "문제를 해결하는 알고리즘   \n",
    "\n",
    "1. Dijkstra algorithm\n",
    "2. Bellman-For algorithm\n",
    "3. A* search\n",
    "4. Floyd-Warshall algorithm\n",
    "\n",
    "## Dijkstra algorithm\n",
    "\n",
    "it was constructed by computer scientist edsger dijkstra in 1956  \n",
    "he can handle positive edge weights // BF algorithm can have negative weights as well dikstar 에 의해 만들어 졌다 dijstra 알고리즘은 positive edge weight 만을 고려한다 반면에 Bellman-Ford 알고리즘은 negative weight에도 가능하다 \n",
    "\n",
    "\n",
    "- several variant : it can find the shortest path from a to b but it is able to construct a shortest path tree as well -> defines the shortest paths from a source to all the other nodes\n",
    "    - dijkstra 알고리즘은 어떤 source node 에서 다른 모든 node 간의 가장 짧은 path 로 정의되어져 있다. 이는 soruce node가 바뀐다면 다시 shorted-path tree를 계산해야만 한다.\n",
    "    \n",
    "- this is asymptotically the fastest known single-source shortest-path algorithm for arbitrary directed graphs with unbounded non-negative weights  \n",
    "    - 이는 하나의 single-source 에서의 shortest-path를 찾는 가장 빠른 알고리즘으로 알려져 있다.\n",
    "O(v*logv +e )\n",
    "\n",
    "dijkstra algorithm is a greedy one : it tries to find the global optimum with help of local minimum -> it turun out to be good    \n",
    "it is greedy -> on every iteration we want to fine the minimum distance to the next vertex possible -> appropriate data sturcs : heaps or in general a priority queue  \n",
    "그냥 구현하면 쿼드라틱인데 적절한 자료구조 heap or queue 를 사용하면 o(v*logv +e ) 까지 효율적으로 만들 수 있다. \n",
    "\n",
    "## pseudo-code\n",
    "```python\n",
    "class Node:\n",
    "    name\n",
    "    min_distance # distance from source node \n",
    "    Node predecessor # tree 구조를 만들기 위한 reference\n",
    "\n",
    "def DijkstraAlgorithm(Graph, source):\n",
    "\n",
    "    ## init phase start point distance is 0    \n",
    "    distance[source] = 0\n",
    "    create vertex queue Q # vertex들을 저장할 queue.\n",
    "    \n",
    "    ## other point distance is inf because we dont know\n",
    "    # predecessor도 알지 못하므로 None으로 init\n",
    "    for v in Graph:\n",
    "        distance[v] = inf\n",
    "        predecessor[v] = undefined\n",
    "        add v to Q\n",
    "        \n",
    "    \n",
    "    while Q not empty:\n",
    "        # this is why to use heaps\n",
    "        # this is greedy part\n",
    "        u = vetex in Q with min distance \n",
    "        remove u from Q\n",
    "        \n",
    "        # find other possible shortest path\n",
    "        for each neghbor v of u:\n",
    "            tempDist = distance[u] + distBetween(u,v)\n",
    "            if tempDist < distance[v]:\n",
    "                distance[v] = tempDist\n",
    "                predecessor[v] = u\n",
    "\n",
    "    return distance[]\n",
    "```"
   ]
  },
  {
   "cell_type": "code",
   "execution_count": 19,
   "metadata": {
    "collapsed": false
   },
   "outputs": [
    {
     "data": {
      "text/plain": [
       "'       \\n요건 python 2\\n    # cmp 는 두개의 객체중 큰 것을 리턴한다\\n    # heap 에 node를 push 하기 위해 cmp 를 overloading 해서 사용 할 것이다.\\n    # cmp(x,y) : x, y 중 minDistance가 크면 큰것.\\n    def __cmp__(self, otherVertex):\\n        return self.cmp(self.minDistance, otherVertex.minDistance)\\n    \\n    # less than operator overloading\\n    def __lt__(self, other):\\n        selfPriority = self.minDistance\\n        otherPriority = other.minDistance\\n    return selfPriority < otherPriority\\n'"
      ]
     },
     "execution_count": 19,
     "metadata": {},
     "output_type": "execute_result"
    }
   ],
   "source": [
    "import sys\n",
    "import heapq\n",
    "from functools import total_ordering\n",
    "\n",
    "class Edge():\n",
    "    \n",
    "    def __init__ (self, weight, startVertex, targetVertex):\n",
    "        self.weight = weight\n",
    "        self.startVertex = startVertex\n",
    "        self.targetVertex = targetVertex\n",
    "        \n",
    "@total_ordering\n",
    "class Node():\n",
    "    \n",
    "    def __init__(self, name):\n",
    "        self.name = name\n",
    "        self. visitied = False\n",
    "        self.predecessor = None\n",
    "        self.adjacenciesList = [] # for adjacencies node's edge \n",
    "        self.minDistance = sys.maxsize # 9223372036854775807\n",
    "        \n",
    "        \n",
    "    # python2 와 3의 큰 차이중 하나인데\n",
    "    # python3 에서는 rich-comp를 지원해서 총 6개의 method를 오버로딩 해야한다.\n",
    "    # 이를 편리하게 지원해주는 decorator가 total_ordering, lt와 eq만 제공해주면 나머지를 해준다.        \n",
    "    def __lt__(self, other):\n",
    "        return self.minDistance < other.minDistance\n",
    "        \n",
    "    def __eq__(self, other):\n",
    "        return self.minDistance == other.minDistance     \n",
    "      \n",
    "\n",
    "\"\"\"       \n",
    "요건 python 2\n",
    "    # cmp 는 두개의 객체중 큰 것을 리턴한다\n",
    "    # heap 에 node를 push 하기 위해 cmp 를 overloading 해서 사용 할 것이다.\n",
    "    # cmp(x,y) : x, y 중 minDistance가 크면 큰것.\n",
    "    def __cmp__(self, otherVertex):\n",
    "        return self.cmp(self.minDistance, otherVertex.minDistance)\n",
    "    \n",
    "    # less than operator overloading\n",
    "    def __lt__(self, other):\n",
    "        selfPriority = self.minDistance\n",
    "        otherPriority = other.minDistance\n",
    "    return selfPriority < otherPriority\n",
    "\"\"\" \n",
    "    "
   ]
  },
  {
   "cell_type": "code",
   "execution_count": 44,
   "metadata": {
    "collapsed": true
   },
   "outputs": [],
   "source": [
    "class Algorithm():\n",
    "    \n",
    "    def calculateShortestPath(self, vertexList, startVertex):\n",
    "        q = []\n",
    "        startVertex.minDistance = 0\n",
    "        \n",
    "        heapq.heappush(q, startVertex)# heap with one-dim array\n",
    "        \n",
    "        while q:\n",
    "            \n",
    "            actualVertex = heapq.heappop(q)\n",
    "            \n",
    "            for edge in actualVertex.adjacenciesList:\n",
    "                u = edge.startVertex\n",
    "                v = edge.targetVertex\n",
    "                newDistance = u.minDistance + edge.weight\n",
    "                \n",
    "                if newDistance < v.minDistance:\n",
    "                    v.predecessor = u\n",
    "                    v.minDistance = newDistance\n",
    "                    heapq.heappush(q, v)\n",
    "                    \n",
    "    def getShortestPathTo(self, targetVertex):\n",
    "        print(\"Shortest path to vertext is : \", targetVertex.minDistance)\n",
    "        \n",
    "        node = targetVertex\n",
    "        \n",
    "        while node is not None:\n",
    "            print(\"{}\".format(node.name))\n",
    "            node = node.predecessor\n",
    "            \n",
    "            "
   ]
  },
  {
   "cell_type": "code",
   "execution_count": 45,
   "metadata": {
    "collapsed": false
   },
   "outputs": [
    {
     "name": "stdout",
     "output_type": "stream",
     "text": [
      "Shortest path to vertext is :  25\n",
      "G\n",
      "C\n",
      "F\n",
      "E\n",
      "A\n"
     ]
    }
   ],
   "source": [
    "node1 = Node(\"A\");\n",
    "node2 = Node(\"B\");\n",
    "node3 = Node(\"C\");\n",
    "node4 = Node(\"D\");\n",
    "node5 = Node(\"E\");\n",
    "node6 = Node(\"F\");\n",
    "node7 = Node(\"G\");\n",
    "node8 = Node(\"H\");\n",
    "\n",
    "edge1 = Edge(5,node1,node2);\n",
    "edge2 = Edge(8,node1,node8);\n",
    "edge3 = Edge(9,node1,node5);\n",
    "edge4 = Edge(15,node2,node4);\n",
    "edge5 = Edge(12,node2,node3);\n",
    "edge6 = Edge(4,node2,node8);\n",
    "edge7 = Edge(7,node8,node3);\n",
    "edge8 = Edge(6,node8,node6);\n",
    "edge9 = Edge(5,node5,node8);\n",
    "edge10 = Edge(4,node5,node6);\n",
    "edge11 = Edge(20,node5,node7);\n",
    "edge12 = Edge(1,node6,node3);\n",
    "edge13 = Edge(13,node6,node7);\n",
    "edge14 = Edge(3,node3,node4);\n",
    "edge15 = Edge(11,node3,node7);\n",
    "edge16 = Edge(9,node4,node7);\n",
    "\n",
    "node1.adjacenciesList.append(edge1);\n",
    "node1.adjacenciesList.append(edge2);\n",
    "node1.adjacenciesList.append(edge3);\n",
    "node2.adjacenciesList.append(edge4);\n",
    "node2.adjacenciesList.append(edge5);\n",
    "node2.adjacenciesList.append(edge6);\n",
    "node8.adjacenciesList.append(edge7);\n",
    "node8.adjacenciesList.append(edge8);\n",
    "node5.adjacenciesList.append(edge9);\n",
    "node5.adjacenciesList.append(edge10);\n",
    "node5.adjacenciesList.append(edge11);\n",
    "node6.adjacenciesList.append(edge12);\n",
    "node6.adjacenciesList.append(edge13);\n",
    "node3.adjacenciesList.append(edge14);\n",
    "node3.adjacenciesList.append(edge15);\n",
    "node4.adjacenciesList.append(edge16);\n",
    "\n",
    "\n",
    "vertexList = (node1,node2,node3, node4, node5, node6, node7, node8);\n",
    "\n",
    "algorithm = Algorithm();\n",
    "algorithm.calculateShortestPath(vertexList, node1);\n",
    "algorithm.getShortestPathTo(node7);"
   ]
  },
  {
   "cell_type": "code",
   "execution_count": 49,
   "metadata": {
    "collapsed": false
   },
   "outputs": [
    {
     "data": {
      "text/plain": [
       "[<__main__.Edge at 0x7fd0a81b9668>,\n",
       " <__main__.Edge at 0x7fd0a81b9438>,\n",
       " <__main__.Edge at 0x7fd0a81b9400>]"
      ]
     },
     "execution_count": 49,
     "metadata": {},
     "output_type": "execute_result"
    }
   ],
   "source": [
    "node1.adjacenciesList"
   ]
  },
  {
   "cell_type": "code",
   "execution_count": null,
   "metadata": {
    "collapsed": true
   },
   "outputs": [],
   "source": []
  }
 ],
 "metadata": {
  "kernelspec": {
   "display_name": "Python 3",
   "language": "python",
   "name": "python3"
  },
  "language_info": {
   "codemirror_mode": {
    "name": "ipython",
    "version": 3
   },
   "file_extension": ".py",
   "mimetype": "text/x-python",
   "name": "python",
   "nbconvert_exporter": "python",
   "pygments_lexer": "ipython3",
   "version": "3.5.2"
  }
 },
 "nbformat": 4,
 "nbformat_minor": 2
}
