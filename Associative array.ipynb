{
 "cells": [
  {
   "cell_type": "markdown",
   "metadata": {},
   "source": [
    "# Associative array\n",
    "\n",
    "Associative array, maps, dict 은 모두 adt이다  \n",
    "key-value 의 쌍으로 이루어져 있으며 각각의 key는 단 한번만 나타난다.  \n",
    "대부분 associative array 를 hashtable로 구현하지만 binary search tree 로도 구현가능하다.  \n",
    "대부분의 op 들을 O(1)을 달성 할 수 있다.\n",
    "\n",
    "### supported operation\n",
    "\n",
    "1. adding key-value pairs to the collection  \n",
    "2. removing key-value pairs from the collection  \n",
    "3. update existing key-value pairs  \n",
    "4. lookup of value associated with a given key  \n",
    "\n",
    "#### IMPORTANT : DO NOT SUPPORT SORTING 이 때문에 다른 자료구조와 혼합하여 사용한다"
   ]
  },
  {
   "cell_type": "markdown",
   "metadata": {},
   "source": [
    "# Hash table / Dictionaries\n",
    "\n",
    "hashing function 을 사용하여 임의의 key 를 random index로 매핑해줌..\n",
    "\n",
    "근데 만약 두개의 키가 같은곳에 맵핑되면? (collision)\n",
    "해결법 : \n",
    "1. chaining : 같은곳에 맵핑된 두개의 키를 linked list로 연결해줌\n",
    "    - 매우 많은  collision이 발생하면 O(1) 를보장못함... worst case를 생각하면 한인덱스에 linked list 쭉 연결해준 것이랑 같아짐\n",
    "    - linked list 를 이용하므로 reference를 저장할 memory가 필요함\n",
    "    \n",
    "2. open addressing : 나중에 맵핑된 키를 같은곳에 매핑하는 것이 아닌 next index로 매핑해줌 better solution\n",
    "    - linear probin : collision이 발생하면 we try next slot 만약 next slot 에서도 collision이 발생하면 empty slot 을 찾을 때 까지 계속한다.\n",
    "    - Quadratic probing : we trying slots 1, 2, 4, 8 ... until far away\n",
    "    - rehasing : we hash the result again in order to find an empty slot, slot이 비어있지 않으면 다시 hashing 해버린다.\n",
    "\n",
    "# Dynamic resizing\n",
    "\n",
    "### Load factor : number of entries divided by the number of slots/buckets  $ \\frac{n}{m}$\n",
    "\n",
    "it is 0 if the hashtable is empty , it is 1 if the hashtable is full\n",
    "\n",
    "만약 load factor가 1에 가까우면... 꽉차간다!! : the performance will decrease, the operations will be slow 그니깐.. 크기를 늘리자!!\n",
    "\n",
    "만약 load factor가 0에 가깝다.. 거의 비었다!! : there will be a lot of memory wasted 그니깐.. 크기를 줄이자 공간이 아깝잖아\n",
    "\n",
    "SO dynamic resizing in needed somtimes\n",
    "\n",
    "#### 즉 memory 복잡도와 time 복잡도의 trade off 관계이다.\n",
    "\n",
    "in python  \n",
    "\n",
    "the threashold is 2/3  \n",
    "\n",
    "1. hash value(해싱해서 리턴된 값?) 는 hash table의 size에 의존하기 때문에 즉 해싱함수가 size에 의존적인 함수라는 뜻인가봄 resizing 할때 entries가 바껴버릴 수가 있다... 그래서 예전 배열에서 새로운 배열로 단순 copy하는 건 불가능 하다.\n",
    "\n",
    "2. resizing 을 하면 다시 모든 아이템을 해싱해야 한다. 이건 O(n) 이 걸리고 이 사실 때문에 dynamic-sized hash tables은 real-time application에는 적합하지 않다."
   ]
  },
  {
   "cell_type": "markdown",
   "metadata": {},
   "source": [
    "### Applications\n",
    "\n",
    "내용을 참조하는 어플리케이션에 많이 쓰인다\n",
    "\n",
    "- Database: 어쩔땐 tree가 좋지만 내용을 참조 할 때는 hashing 이 더 낫다.\n",
    "- counting word in document : 문서의 내용을 참조하여... counting 하기 때문에\n",
    "- stroing data + lookup table (password check) : lookup table 이 필요하다면 해싱을 고려?\n",
    "- lookup table in huge network(lookup for ip) : 이것도 마찬가지\n",
    "- subtring search(rabin-karp 알고리즘) : 이것도..?? 내용을 참조?? 모르겟네"
   ]
  },
  {
   "cell_type": "code",
   "execution_count": 15,
   "metadata": {
    "collapsed": false
   },
   "outputs": [
    {
     "name": "stdout",
     "output_type": "stream",
     "text": [
      "dict_items([('Emily', 56), ('Adam', 26), ('Joe', 14)])\n",
      "dict_keys(['Emily', 'Adam', 'Joe'])\n",
      "dict_values([56, 26, 14])\n",
      "dict_values([56, 26, 14])\n",
      "dict_values([56, 26, 14])\n"
     ]
    }
   ],
   "source": [
    "dict = {\"Joe\" :14 ,\"Adam\":26,\"Emily\":56}\n",
    "\n",
    "dict[\"Joe\"]\n",
    "\n",
    "# remove all entry\n",
    "#dict.clear()\n",
    "\n",
    "# del dict itself\n",
    "#del dict\n",
    "\n",
    "## there is not exist order\n",
    "# 실행할 때마다 순서가 달라질 수 있음\n",
    "# 주피터에선.. 달라지진 않는데 콘솔로 실행하면... 달라진다!! 주의해랏!!!\n",
    "print(dict.items())\n",
    "print(dict.keys())\n",
    "print(dict.values())\n"
   ]
  },
  {
   "cell_type": "code",
   "execution_count": null,
   "metadata": {
    "collapsed": true
   },
   "outputs": [],
   "source": []
  }
 ],
 "metadata": {
  "kernelspec": {
   "display_name": "Python 3",
   "language": "python",
   "name": "python3"
  },
  "language_info": {
   "codemirror_mode": {
    "name": "ipython",
    "version": 3
   },
   "file_extension": ".py",
   "mimetype": "text/x-python",
   "name": "python",
   "nbconvert_exporter": "python",
   "pygments_lexer": "ipython3",
   "version": "3.5.2"
  }
 },
 "nbformat": 4,
 "nbformat_minor": 2
}
