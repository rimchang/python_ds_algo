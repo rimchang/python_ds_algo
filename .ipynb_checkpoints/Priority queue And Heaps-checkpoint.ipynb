{
 "cells": [
  {
   "cell_type": "markdown",
   "metadata": {
    "deletable": true,
    "editable": true
   },
   "source": [
    "# Priority queue\n",
    "\n",
    "- it is an abstract data type such as stack or queue but every item has an additional property : a priority value  \n",
    "- in a priority queue an element with hgh priority is served before an element with lower priority  \n",
    "- priority queue are usually implemented with heaps, but it can be implemented with self balancing trees as well  \n",
    "- very simillar to queue with some modification: when we would like to get the next time -> the highest priorty element is retrieved first(No FIFO)\n",
    "\n",
    "## priorty queue 는 abstract data type"
   ]
  },
  {
   "cell_type": "markdown",
   "metadata": {
    "deletable": true,
    "editable": true
   },
   "source": [
    "# Heaps\n",
    "\n",
    "- it is basically a binary tree\n",
    "- two main binary heap types : min and max heap\n",
    "- max heap : the highest key is in the root node\n",
    "- min heap : the highest key is in the root node\n",
    "- it is complete : it cannot be unbalanced\n",
    "- #### the heap is one maximally efficient implementation of a priority queue adt\n",
    "- it has nothing to do with the pool of memory from which dynamically allocated memory is allocated\n",
    "    - heap 메모리랑은 아무상관이 없다.. \n",
    "\n",
    "## props\n",
    "\n",
    "1. complete -> completed 한 tree 이다.\n",
    "2. binary heap 에서는 모든 node가 2개의 children을 갖는다\n",
    "3. min heap -> 모든 root 노드가 children 노드보다 작다\n",
    "     - max heap -> 모든 root 노드가 children 노드보다 크다\n",
    "\n",
    "## Heaps 는 priory queue의 구현체.. adt가 아니다"
   ]
  },
  {
   "cell_type": "markdown",
   "metadata": {
    "deletable": true,
    "editable": true
   },
   "source": [
    "## Heaps introduction - array representation\n",
    "\n",
    "### Heaps can be consider ADT\n",
    "### one dim array, linked list 등의 underlying data structure 이 존재한다. \n",
    "\n",
    "tree의 루트부터 왼쪽부터 오른쪽으로 index를 붙이면 array representation 이다.\n",
    "##### parent node index i => left node 2i +1 , right node 2i+2\n",
    "\n",
    "# Heapsort\n",
    "\n",
    "- Comparison-based sorting algorithm\n",
    "- user heap data structure rather than a liner-time search to find the maximum\n",
    "- quicksort 보다 약간 느리지만 , worst-cast O(N logN) 이라는 장점이 있다.\n",
    "- in-place 알고리즘(ADDITIONAL MEMORY 가 필요없다)이지만, stable sort(order가 매번 달라진다)는 아니다.\n",
    "- Problmen : first we have to construct the heap itself from the numbers we want to sort -> O(N)\n",
    "\n",
    "Heap 을가지고 sort하는 구조..  \n",
    "root랑 마지막 노드랑 바꾸고 -> heap으로 만들고 -> root랑 마지막 노드랑 바꾸고 반복  \n",
    "결국 index 순서대로 sorting된다.\n",
    "\n",
    "- memory complexity : O(n) n개의 아이템을 array에 저장해야 한다.  \n",
    "- find the minumun or maximum : O(1) highest root node에 접근하면 된다  \n",
    "- insert new item : item을 추가하는것은 배열에 마지막 인덱스에 저장 O(1) 하지만 heap의 특징을 만족하는지 체크해야 한다 이는 O(logN) 이다. n = 2^k 라고 가정하면 worst 케이스의 경우 k번을 체크해야 하므로 log_2N 이다.\n",
    "- remove item : 삭제하는 연산은 O(1) 이고 remove또한 heap 을 만족하는지 체크 해야 한다 이는 O(logN) 이다.\n",
    "\n",
    "#### AVL 트리와의 차이는 Find minimun or maximum 에서 차이가 난다. AVL 트리에서는 max, min 은 O(logN) 이다. 즉 Heap은 max, min 같은 연산이 많이 필요할 때 효율적이다.\n",
    "#### 또한 heap 이 optimazation 에서 많이 쓰이는 이유이다. optimazation 에서는 max, min 연산이 많이 필요한데 이를 O(1) 의 복잡도를 유지해준다. shortest path등에 자주 사용된다."
   ]
  },
  {
   "cell_type": "markdown",
   "metadata": {},
   "source": [
    "## Another heap\n",
    "\n",
    "### Binomial heap\n",
    "\n",
    "binary heap 과 비슷하지만 두개의 heap을 빠르게 merge할 수 있게 한다.  \n",
    "mergerable heap의 adt 의 구현 중의 하나이다 \n",
    "이는 priority queue biasically + supporing merge operation 의 형태이다  \n",
    "binomial heap은 tree의 집합으로 구현된다.  \n",
    "binary heap 에서의 insert operation O(logn) 을 log(1) 으로 줄일 수 있다.\n",
    "\n",
    "\n",
    "\n",
    "### Fibonacci heap\n",
    "\n",
    "전통적인 binary heap 보다 빠르다.  \n",
    "dikstra 알고리즘 이나 prim's spanning tree 알고리즘에서 Fibonacci heap 을 사용하면 빠르게 실행 할 수 있따.  \n",
    "하지만 구현이 힘들고 그만큼의 효과를 얻기 힘들다  \n",
    "binar heap과 다르게 2개이상의 children 을 가질 수 있꼬 이 children을 최소로 유지하려고 한다  \n",
    "insert연산을 O(1) 로 만들 수 있다.  \n",
    "모든 노드는 O(logn) 의 degree를 가지며 subtree의 size 를 F_k+2 (피보나치 수열) 로 유지한다.\n",
    "\n",
    "### 두개의 heap은 heap adt 에서 insert op의 복잡도를 O(1)로 만들 수 있다.\n",
    "### Fibonacci heap 은 decrease key, merge 연산도 O(1) 을 가진다."
   ]
  },
  {
   "cell_type": "markdown",
   "metadata": {},
   "source": [
    "# Heaps implementation"
   ]
  },
  {
   "cell_type": "code",
   "execution_count": 4,
   "metadata": {
    "collapsed": false
   },
   "outputs": [],
   "source": [
    "# heap representation by array\n",
    "class Heap():\n",
    "    \n",
    "    # 배열을 미리 할당하려면 필요하다\n",
    "    # 또한 index를 순차적으로 증가하지 않기 때문에 필요 list = []; list[3]=3; 은 불가능...ㅜ\n",
    "    HEAP_SIZE = 10\n",
    "    \n",
    "    def __init__(self):\n",
    "        self.heap = [0]*HEAP_SIZE\n",
    "        # currentPosition 은 마지막 index를 가르키는 pointer\n",
    "        self.currentPostition = -1\n",
    "        \n",
    "    def insert(self, item):\n",
    "        \n",
    "        if self.isFull():\n",
    "            print(\"heap is full..\")\n",
    "            return None\n",
    "        \n",
    "        self.currentPostition += 1\n",
    "        self.heap[currentPostition] = item\n",
    "        self.fixUp(self.currentPostition)\n",
    "    \n",
    "    # check root node is greatest and fix\n",
    "    def fixUp(self, index):\n",
    "        \n",
    "        parentIndex = int(index=1)/2\n",
    "        \n",
    "        while parentIndex >= 0 and self.heap[parentIndex]< self.heap[index]:\n",
    "            temp = self.heap[index]\n",
    "            self.heap[index] = self.heap[parentIndex]\n",
    "            self.heap[parentIndex] = temp\n",
    "            parentIndex = (int) ((index-1)/2)\n",
    "    \n",
    "    def heapsort(self):\n",
    "        \n",
    "        for i in range(0, self.currentPostition + 1):\n",
    "            # root node\n",
    "            temp = self.heap[0]\n",
    "            print(\"{}\".format(temp))\n",
    "            self.heap[0] = self.heap[self.currentPostition - i]\n",
    "            self.heap[self.currentPostition - i] = temp\n",
    "            self.fixDown(0, self.currentPostition -i -1)\n",
    "            \n",
    "        def fixDown(self, index, upto):\n",
    "            \n",
    "            while index <= upto:\n",
    "                \n",
    "                leftChild = 2*index +1\n",
    "                rightChild = 2*index +2\n",
    "                \n",
    "                if leftChild < upto:\n",
    "                    childToSwap = None\n",
    "                    \n",
    "                    if righyChild > upto:\n",
    "                        childToSwap = leftChild\n",
    "                        \n",
    "                    else:\n",
    "                        if self.heap[LeftCHild] > self.heap[RightCHild]:\n",
    "                            childToSwap = leftChild\n",
    "                        else:\n",
    "                            childToSwap = rightChild\n",
    "                            \n",
    "                    if self.heap[index] < self. \n",
    "                            \n",
    "            \n",
    "    \n",
    "    def isFull(self):\n",
    "        \n",
    "        if self.currentPostition == heap.HEAP_SIZE:\n",
    "            return True\n",
    "        else:\n",
    "            return False\n",
    "        "
   ]
  },
  {
   "cell_type": "code",
   "execution_count": 5,
   "metadata": {
    "collapsed": false
   },
   "outputs": [
    {
     "ename": "NameError",
     "evalue": "name 'HEAP_SIZE' is not defined",
     "output_type": "error",
     "traceback": [
      "\u001b[0;31m---------------------------------------------------------------------------\u001b[0m",
      "\u001b[0;31mNameError\u001b[0m                                 Traceback (most recent call last)",
      "\u001b[0;32m<ipython-input-5-bb41dd1f621b>\u001b[0m in \u001b[0;36m<module>\u001b[0;34m()\u001b[0m\n\u001b[0;32m----> 1\u001b[0;31m \u001b[0mheap\u001b[0m \u001b[0;34m=\u001b[0m \u001b[0mHeap\u001b[0m\u001b[0;34m(\u001b[0m\u001b[0;34m)\u001b[0m\u001b[0;34m\u001b[0m\u001b[0m\n\u001b[0m",
      "\u001b[0;32m<ipython-input-4-d01f9adbae1f>\u001b[0m in \u001b[0;36m__init__\u001b[0;34m(self)\u001b[0m\n\u001b[1;32m      7\u001b[0m \u001b[0;34m\u001b[0m\u001b[0m\n\u001b[1;32m      8\u001b[0m     \u001b[0;32mdef\u001b[0m \u001b[0m__init__\u001b[0m\u001b[0;34m(\u001b[0m\u001b[0mself\u001b[0m\u001b[0;34m)\u001b[0m\u001b[0;34m:\u001b[0m\u001b[0;34m\u001b[0m\u001b[0m\n\u001b[0;32m----> 9\u001b[0;31m         \u001b[0mself\u001b[0m\u001b[0;34m.\u001b[0m\u001b[0mheap\u001b[0m \u001b[0;34m=\u001b[0m \u001b[0;34m[\u001b[0m\u001b[0;36m0\u001b[0m\u001b[0;34m]\u001b[0m\u001b[0;34m*\u001b[0m\u001b[0mHEAP_SIZE\u001b[0m\u001b[0;34m\u001b[0m\u001b[0m\n\u001b[0m\u001b[1;32m     10\u001b[0m         \u001b[0mself\u001b[0m\u001b[0;34m.\u001b[0m\u001b[0mcurrentPostition\u001b[0m \u001b[0;34m=\u001b[0m \u001b[0;34m-\u001b[0m\u001b[0;36m1\u001b[0m\u001b[0;34m\u001b[0m\u001b[0m\n\u001b[1;32m     11\u001b[0m \u001b[0;34m\u001b[0m\u001b[0m\n",
      "\u001b[0;31mNameError\u001b[0m: name 'HEAP_SIZE' is not defined"
     ]
    }
   ],
   "source": [
    "heap = Heap()"
   ]
  },
  {
   "cell_type": "code",
   "execution_count": null,
   "metadata": {
    "collapsed": true
   },
   "outputs": [],
   "source": []
  }
 ],
 "metadata": {
  "kernelspec": {
   "display_name": "Python 3",
   "language": "python",
   "name": "python3"
  },
  "language_info": {
   "codemirror_mode": {
    "name": "ipython",
    "version": 3
   },
   "file_extension": ".py",
   "mimetype": "text/x-python",
   "name": "python",
   "nbconvert_exporter": "python",
   "pygments_lexer": "ipython3",
   "version": "3.5.2"
  }
 },
 "nbformat": 4,
 "nbformat_minor": 2
}
