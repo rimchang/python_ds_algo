{
 "cells": [
  {
   "cell_type": "markdown",
   "metadata": {},
   "source": [
    "# Arrays\n",
    "\n",
    "- Arrays are data structures in order to store item of the same type\n",
    "- we use indices as keys\n",
    "- Arrays can have as many dimensions as we want\n",
    "- storing a matrix -> two dimensional array\n",
    "- dynamic array : when the size of the array is changing dynamically\n",
    "- applications : look tables/ hash tables, heap\n",
    "\n",
    "## Advantages\n",
    "\n",
    "- we can use random access beacause of the keys (getitem(int index)) will return the value with the given key very fast O(1)\n",
    "- very easy to implement and to use\n",
    "- very fast data structures\n",
    "- we shoud use array is applications when we wnat to add items over and over again and we want to take item with given indexes\n",
    "\n",
    "## Disadvantages\n",
    "\n",
    "- we have to know the size of the array at compile-time \n",
    "- if it is full we have to create a bigger array and have to copy the value one by one reconstructing an array is O(N) operation (하나하나 아이템에 접근해야 하기 때문에)\n",
    "- it is not able to store item with different types\n",
    "\n",
    "## Operation\n",
    "\n",
    "- add : we can keep adding value to the array as far as the array is not full // O(1)\n",
    "- insert : we would like to inser to given value with a given index // O(N) (최악의 경우 꽉찬 Arrays의 첫번째 인덱스에 넣어야 할경우.. N이 걸림) linked list Array 의 경우는 insert에 O(1) add에 O(N) 이 걸린다. 이는 문제에 따라서 잘 자료구조를 선택해야함\n",
    "- remove : we would like to remove the given index, we may have to shift items // O(N)\n",
    "\n",
    "\n",
    "# If We know index O(1) but we don't know index O(N)"
   ]
  },
  {
   "cell_type": "code",
   "execution_count": 7,
   "metadata": {
    "collapsed": false
   },
   "outputs": [
    {
     "name": "stdout",
     "output_type": "stream",
     "text": [
      "1\n",
      "200\n",
      "3\n",
      "4\n",
      "5\n",
      "1\n",
      "200\n",
      "3\n",
      "4\n",
      "5\n",
      "[1, 200]\n",
      "[1, 200, 3, 4, 5]\n",
      "[1, 200, 3]\n",
      "200\n"
     ]
    }
   ],
   "source": [
    "#파이썬에서는 Native Array를 사용하지 않고 general array를 사용한다.\n",
    "\n",
    "numbers = [1,2,3,4,5]\n",
    "\n",
    "# random indexing --> O(1) get items if we know index\n",
    "numbers[0]\n",
    "\n",
    "# insert\n",
    "numbers[1] = 200\n",
    "\n",
    "# iterate arrays\n",
    "for num in numbers:\n",
    "    print(num)\n",
    "\n",
    "# equal to up code\n",
    "for i in range(len(numbers)):\n",
    "    print(numbers[i])\n",
    "    \n",
    "print(numbers[0:2])\n",
    "\n",
    "print(numbers[:])\n",
    "\n",
    "print(numbers[:-2])\n",
    "\n",
    "# linear search O(N)\n",
    "maximum = numbers[0]\n",
    "for num in numbers:\n",
    "    if num > maximum:\n",
    "        maximum = num\n",
    "print(maximum)\n",
    "    "
   ]
  },
  {
   "cell_type": "code",
   "execution_count": null,
   "metadata": {
    "collapsed": true
   },
   "outputs": [],
   "source": []
  }
 ],
 "metadata": {
  "kernelspec": {
   "display_name": "Python 3",
   "language": "python",
   "name": "python3"
  },
  "language_info": {
   "codemirror_mode": {
    "name": "ipython",
    "version": 3
   },
   "file_extension": ".py",
   "mimetype": "text/x-python",
   "name": "python",
   "nbconvert_exporter": "python",
   "pygments_lexer": "ipython3",
   "version": "3.5.2"
  }
 },
 "nbformat": 4,
 "nbformat_minor": 0
}
