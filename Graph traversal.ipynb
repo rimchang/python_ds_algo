{
 "cells": [
  {
   "cell_type": "markdown",
   "metadata": {},
   "source": [
    "# Breadth first search\n",
    "\n",
    "we have a graph and we want to visit every node -> we can do it with bfs  \n",
    "we visit every vertex exactly once  \n",
    "we visit the neighbours then the neighbours of these new vertices and so on  \n",
    "O(v+e)  \n",
    "memory complexity is not good : we have to store lots of references  \n",
    "thats why dfs is usually preferred  \n",
    "but it constructs a shortest path : dijkstra algorithm does a bfs if all the edge weights are equal to 1  \n",
    "\n",
    "bfs(vertex)\n",
    "    Queue queue\n",
    "     vertex set visited true\n",
    "     queue.enqueue(vertex)\n",
    "     \n",
    "     while queue not empty:\n",
    "         actual = queue.dequeue()\n",
    "         \n",
    "         for v in actual neighbours:\n",
    "             if v is not visited:\n",
    "                 v set visisted true\n",
    "                 queue.enqueue(v)"
   ]
  },
  {
   "cell_type": "code",
   "execution_count": 21,
   "metadata": {
    "collapsed": true
   },
   "outputs": [],
   "source": [
    "class Node():\n",
    "    \n",
    "    def __init__(self, name):\n",
    "        self.name = name\n",
    "        self.adjList = []\n",
    "        self.visited = False\n",
    "        self.predecessor = None\n",
    "\n",
    "# BGS 는 queue 를 사용한다\n",
    "# DFS 는 stack을 사용하는데 일반적으로 재귀를 사용함 ( 재귀는 내부적으로 stack 메모리를 사용)\n",
    "class BreadthFirstSearch():\n",
    "    \n",
    "    def bfs(self, startNode):\n",
    "        \n",
    "        queue = []\n",
    "        queue.append(startNode)\n",
    "        startNode.visited = True\n",
    "        \n",
    "        \n",
    "        while queue:\n",
    "            actualNode = queue.pop(0)\n",
    "            print(\"{} \".format(actualNode.name))\n",
    "            \n",
    "            for n in actualNode.adjList:\n",
    "                if not n.visited:\n",
    "                    n.visited = True\n",
    "                    queue.append(n)"
   ]
  },
  {
   "cell_type": "code",
   "execution_count": 22,
   "metadata": {
    "collapsed": false
   },
   "outputs": [
    {
     "name": "stdout",
     "output_type": "stream",
     "text": [
      "A \n",
      "B \n",
      "C \n",
      "D \n",
      "E \n"
     ]
    }
   ],
   "source": [
    "node1 = Node(\"A\")\n",
    "node2 = Node(\"B\")\n",
    "node3 = Node(\"C\")\n",
    "node4 = Node(\"D\")\n",
    "node5 = Node(\"E\")\n",
    "\n",
    "node1.adjList.append(node2)\n",
    "node1.adjList.append(node3)\n",
    "node2.adjList.append(node4)\n",
    "node4.adjList.append(node5)\n",
    "\n",
    "bfs = BreadthFirstSearch()\n",
    "bfs.bfs(node1)"
   ]
  },
  {
   "cell_type": "markdown",
   "metadata": {},
   "source": [
    "# Depth first search\n",
    "\n",
    "Depth-first search is a widely used graph traversal algorithm besides breadth-first search  \n",
    "it was investigated as strategy for solving maze by tremaux in the 19th centry  \n",
    "it explore as far as possible along each branch before backtraking // bfs was a layer by layer algorithm  \n",
    "O(v+e) \n",
    "memory complexity is better than BFS  \n",
    "\n",
    "### Applications\n",
    "\n",
    "1. Topological ordering\n",
    "2. kosaraju algorithm for finding strongly connected components in a graph which can be proved to be very important in recommendation systems\n",
    "3. detecting cycle ( checking whether a graph is DAG or not)\n",
    "4. Generationg mazes or finding way out of maze\n",
    "\n",
    "\n",
    "#### Recursion\n",
    "```\n",
    "dfs(vertex):  \n",
    "    vertex set visitied true\n",
    "    print vertex\n",
    "    \n",
    "    for v in vertex neighbours:\n",
    "        if v is not visited:\n",
    "            dfs(v)\n",
    "```\n",
    "#### Iteration\n",
    "```\n",
    "dfs(vertex):\n",
    "    Stack stack\n",
    "    vertex set visited true\n",
    "    stack.push(vertex)\n",
    "    \n",
    "    while stack not empty:\n",
    "        actual = stack.pop()\n",
    "        \n",
    "        for v in actual neighbours:\n",
    "            if v is not visited:\n",
    "                v set visited true\n",
    "                stack.push(v)\n",
    "                ```\n",
    "             "
   ]
  },
  {
   "cell_type": "code",
   "execution_count": 43,
   "metadata": {
    "collapsed": true
   },
   "outputs": [],
   "source": [
    "class Node():\n",
    "    \n",
    "    def __init__(self, name):\n",
    "        self.name = name\n",
    "        self.adjList = []\n",
    "        self.visited = False\n",
    "        self.predecessor = None\n",
    "        \n",
    "# DFS -> using stack, BFS -> using queue\n",
    "class DepthFirstSearch():\n",
    "    \n",
    "    def dfs(self, node):\n",
    "        \n",
    "        node.visited = True\n",
    "        print(\"{}\".format(node.name))\n",
    "        \n",
    "        for n in node.adjList:\n",
    "            if not n.visited:\n",
    "                self.dfs(n)\n",
    "        \n",
    "        "
   ]
  },
  {
   "cell_type": "code",
   "execution_count": 44,
   "metadata": {
    "collapsed": false
   },
   "outputs": [
    {
     "name": "stdout",
     "output_type": "stream",
     "text": [
      "A\n",
      "B\n",
      "D\n",
      "E\n",
      "C\n"
     ]
    }
   ],
   "source": [
    "node1 = Node(\"A\")\n",
    "node2 = Node(\"B\")\n",
    "node3 = Node(\"C\")\n",
    "node4 = Node(\"D\")\n",
    "node5 = Node(\"E\")\n",
    "\n",
    "node1.adjList.append(node2)\n",
    "node1.adjList.append(node3)\n",
    "node2.adjList.append(node4)\n",
    "node4.adjList.append(node5)\n",
    "\n",
    "dfs = DepthFirstSearch()\n",
    "dfs.dfs(node1)"
   ]
  },
  {
   "cell_type": "markdown",
   "metadata": {},
   "source": [
    "#### BFS -> using queue + layer by layer algorithm\n",
    "#### DFS -> using stack + goes as deep as possible into the tree"
   ]
  }
 ],
 "metadata": {
  "kernelspec": {
   "display_name": "Python 3",
   "language": "python",
   "name": "python3"
  },
  "language_info": {
   "codemirror_mode": {
    "name": "ipython",
    "version": 3
   },
   "file_extension": ".py",
   "mimetype": "text/x-python",
   "name": "python",
   "nbconvert_exporter": "python",
   "pygments_lexer": "ipython3",
   "version": "3.5.2"
  }
 },
 "nbformat": 4,
 "nbformat_minor": 2
}
