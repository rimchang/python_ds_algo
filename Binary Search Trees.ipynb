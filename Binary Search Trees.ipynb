{
 "cells": [
  {
   "cell_type": "markdown",
   "metadata": {},
   "source": [
    "# Binary Search Tree\n",
    "\n",
    "Binary search tree are going to make all these operations quite fast, with O(log N) - 실행타임을 예측가능하게 만들어준다.\n",
    "\n",
    "## Trees\n",
    "\n",
    "\n",
    "we have nodes with the data and connection // edges\n",
    "\n",
    "##### there must be only single path from the root node to any other nodes in the tree - if they are not, it is not a tree\n",
    "\n",
    "root nodes : we have a reference to this all other nodes can be accessed via the root node\n",
    "\n",
    "child : a node directly connected to another node\n",
    "\n",
    "the opposite : parent node\n",
    "\n",
    "leaf nodes : with no children\n",
    "\n",
    "## Binary search trees\n",
    "\n",
    "- every node can have at most two children : left and right child\n",
    "- left child : smaller than the parent\n",
    "- right child : greater than the parent\n",
    "- height of the tree : the number of layers it has\n",
    "    - we should keep the height of the tree at minimum which is h=log n\n",
    "    - if the tree is unblanced : the h=logn relation in no more valid and operation's running time is no more logarithmic\n",
    "\n",
    "\n",
    "- binary search trees are data structures\n",
    "- keep the key in sorted order : so that lookup and other operaitions can use the principle of binary search\n",
    "- each comparison allows the operations to skip over half of the tree, so that each lookup/insertion/deletion take time proprtional to the logarithm of the number of items\n",
    "- this is much better tan the linear tiem O(n) requred to find items by key in an unsorted array, but slower than the corresponding operations on hash table\n",
    "\n",
    "\n",
    "on every decision we get rid of half of the data in which we are searching O(log N)\n",
    "in general O(log N) if this is true tree is said to be balanced\n",
    "\n",
    "- ### insertion\n",
    "    - we start at the root node, if the data we want to insert is greater than root node we go to right , if ir is smaller we go to the left And so on\n",
    "- ### search\n",
    "    - we start at the root node, if the data we want to find is greater than root node we go to right if it is smaller we go to the left, until we find it\n",
    "- ### delete\n",
    "    - soft delete : we do not remove the node from the BST we just mark that it has been removed - not so efficient solution\n",
    "- #### delete 3 case\n",
    "    - 1) we want to get rid of leaf node : we just have to remove it : O(logn) find operation + O(1) deletion = O(logN)\n",
    "    - 2) we want to get rid of node that has a single child, we just have to update the reference : O(logn) find operation + O(1) update reference = O(logN)\n",
    "    - 3) we want to get rid of a node that has two children , we look for the predecessor or successor and swap the parent nodes and excute 1) or 2) : O(logN)\n",
    "    \n",
    "- ### Traversal\n",
    "    - somtime it is neccessary to visit every node in the tree\n",
    "    - 1) in-order traversal : we visit left subtree + the root node + the right subtree recursively (numerical ordering 으로 탐색된다)\n",
    "    - 2) pre-oreder traversal: we visit root + left subtree + the right subtree recursively \n",
    "    - 3) post-order traversal : we visit the left subtree + right subtree + the root recursively\n",
    "    \n",
    "\n",
    "# Worst case \n",
    "\n",
    "if the tree becomes unbalanced : the operations running times can be reduced to O(N) i n the worst case "
   ]
  },
  {
   "cell_type": "code",
   "execution_count": 144,
   "metadata": {
    "collapsed": false,
    "scrolled": true
   },
   "outputs": [],
   "source": [
    "\n",
    "class Node():\n",
    "    \n",
    "    def __init__(self, data):\n",
    "        self.data = data\n",
    "        self.leftChild = None\n",
    "        self.rightChild = None\n",
    "        \n",
    "class BinarySearchTree():\n",
    "    \n",
    "    def __init__(self):\n",
    "        self.root = None\n",
    "        \n",
    "    def insert(self, data):\n",
    "        \n",
    "        if not self.root:\n",
    "            self.root = Node(data)\n",
    "            \n",
    "        else:\n",
    "            self.insertNode(data, self.root)\n",
    "            \n",
    "    # O(logN) if the tree is balanced  if worst case O(N)\n",
    "    def insertNode(self, data, node):\n",
    "        \n",
    "        if data < node.data:\n",
    "            if node.leftChild: # if node.leftChild is exist\n",
    "                self.insertNode(data, node.leftChild)\n",
    "            else:\n",
    "                node.leftChild = Node(data)\n",
    "        else:\n",
    "            if node.rightChild: # if node.rightChild is exist\n",
    "                self.insertNode(data, node.rightChild)\n",
    "            else:\n",
    "                node.rightChild = Node(data)\n",
    "    \n",
    "    def getMinValue(self):\n",
    "        \n",
    "        if self.root:\n",
    "            return self.getMin(self.root)\n",
    "        \n",
    "    def getMin(self, node):\n",
    "        \n",
    "        if node.leftChild:\n",
    "            return self.getMin(node.leftChild)\n",
    "        \n",
    "        return node.data\n",
    "        \n",
    "    def getMaxValue(self):\n",
    "        \n",
    "        if self.root:\n",
    "            return self.getMax(self.root)\n",
    "        \n",
    "    def getMax(self, node):\n",
    "        \n",
    "        if node.rightChild:\n",
    "            return self.getMax(node.rightChild)\n",
    "        \n",
    "        return node.data\n",
    "    \n",
    "    def traverse(self):\n",
    "        \n",
    "        if self.root:\n",
    "            self.traverseInOrder(self.root)\n",
    "            \n",
    "    def traverseInOrder(self, node):\n",
    "        \n",
    "        if node.leftChild:\n",
    "            self.traverseInOrder(node.leftChild)\n",
    "            \n",
    "        print(\" %s\" % node.data)\n",
    "        \n",
    "        if node.rightChild:\n",
    "            self.traverseInOrder(node.rightChild)  \n",
    "            \n",
    "    def remove(self, data):\n",
    "        if self.root:\n",
    "            self.root = self.removeNode(data, self.root)\n",
    "        \n",
    "    def removeNode(self, data, node):\n",
    "        # return root Node in removed subtree\n",
    "        \n",
    "        if not node: # if node is None\n",
    "            return node\n",
    "        \n",
    "        if data < node.data:\n",
    "            node.leftChild = self.removeNode(data, node.leftChild)\n",
    "        elif data > node.data:\n",
    "            node.rightChild = self.removeNode(data, node.rightChild)\n",
    "        else:\n",
    "            \n",
    "            # case 1\n",
    "            if not node.leftChild and not node.rightChild:\n",
    "                print(\"removing a leaf node..\")\n",
    "                \n",
    "                del node\n",
    "                return None\n",
    "            \n",
    "            # case 2\n",
    "            if not node.leftChild:\n",
    "                print(\"removing a node with single right child..\")\n",
    "                tempNode = node.rightChild\n",
    "                del node\n",
    "                return tempNode\n",
    "            \n",
    "            elif not node.rightChild:\n",
    "                print(\"removing a node with single left child\")\n",
    "                tempNode = node.leftChild\n",
    "                del node\n",
    "                return tempNode\n",
    "            \n",
    "            # case 3\n",
    "            print(\"remving node with two children\")\n",
    "            tempNode = self.getPredecessor(node.leftChild)\n",
    "            node.data = tempNode.data\n",
    "            \n",
    "            node.leftChild = self.removeNode(tempNode.data, node.leftChild)\n",
    "             \n",
    "            #return node - why not here?\n",
    "        return node\n",
    "            \n",
    "            \n",
    "    def getPredecessor(self, node):\n",
    "        # return 가장 오른쪽의 Child\n",
    "        if node.rightChild:\n",
    "            return self.getPredecessor(node.rightChild)\n",
    "        \n",
    "        return node"
   ]
  },
  {
   "cell_type": "code",
   "execution_count": 145,
   "metadata": {
    "collapsed": false,
    "scrolled": true
   },
   "outputs": [
    {
     "name": "stdout",
     "output_type": "stream",
     "text": [
      " 1\n",
      " 1\n",
      " 2\n",
      " 2\n",
      " 3\n",
      " 4\n",
      " 6\n"
     ]
    },
    {
     "data": {
      "text/plain": [
       "6"
      ]
     },
     "execution_count": 145,
     "metadata": {},
     "output_type": "execute_result"
    }
   ],
   "source": [
    "bst = BinarySearchTree()\n",
    "bst.insert(1)\n",
    "bst.insert(2)\n",
    "bst.insert(1)\n",
    "bst.insert(2)\n",
    "bst.insert(3)\n",
    "bst.insert(4)\n",
    "bst.insert(6)\n",
    "\n",
    "bst.traverse()\n",
    "bst.getMinValue()\n",
    "bst.getMaxValue()"
   ]
  },
  {
   "cell_type": "code",
   "execution_count": 146,
   "metadata": {
    "collapsed": false
   },
   "outputs": [
    {
     "name": "stdout",
     "output_type": "stream",
     "text": [
      " 1\n",
      " 1\n",
      " 2\n",
      " 2\n",
      " 3\n",
      " 4\n",
      " 6\n"
     ]
    }
   ],
   "source": [
    "bst.traverse()"
   ]
  },
  {
   "cell_type": "code",
   "execution_count": 147,
   "metadata": {
    "collapsed": false
   },
   "outputs": [],
   "source": [
    "bst.remove(100)"
   ]
  },
  {
   "cell_type": "code",
   "execution_count": 148,
   "metadata": {
    "collapsed": false
   },
   "outputs": [
    {
     "name": "stdout",
     "output_type": "stream",
     "text": [
      " 1\n",
      " 1\n",
      " 2\n",
      " 2\n",
      " 3\n",
      " 4\n",
      " 6\n"
     ]
    }
   ],
   "source": [
    "bst.traverse()"
   ]
  },
  {
   "cell_type": "code",
   "execution_count": 149,
   "metadata": {
    "collapsed": false
   },
   "outputs": [
    {
     "name": "stdout",
     "output_type": "stream",
     "text": [
      "remving node with two children\n",
      "removing a leaf node..\n"
     ]
    }
   ],
   "source": [
    "bst.remove(2)"
   ]
  },
  {
   "cell_type": "code",
   "execution_count": 150,
   "metadata": {
    "collapsed": false
   },
   "outputs": [
    {
     "name": "stdout",
     "output_type": "stream",
     "text": [
      " 1\n",
      " 1\n",
      " 2\n",
      " 3\n",
      " 4\n",
      " 6\n"
     ]
    }
   ],
   "source": [
    "bst.traverse()"
   ]
  },
  {
   "cell_type": "code",
   "execution_count": null,
   "metadata": {
    "collapsed": true
   },
   "outputs": [],
   "source": []
  }
 ],
 "metadata": {
  "kernelspec": {
   "display_name": "Python 3",
   "language": "python",
   "name": "python3"
  },
  "language_info": {
   "codemirror_mode": {
    "name": "ipython",
    "version": 3
   },
   "file_extension": ".py",
   "mimetype": "text/x-python",
   "name": "python",
   "nbconvert_exporter": "python",
   "pygments_lexer": "ipython3",
   "version": "3.5.2"
  }
 },
 "nbformat": 4,
 "nbformat_minor": 0
}
