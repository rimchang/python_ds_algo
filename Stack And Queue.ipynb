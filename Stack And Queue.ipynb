{
 "cells": [
  {
   "cell_type": "markdown",
   "metadata": {},
   "source": [
    "# Stack\n",
    "\n",
    "## Operation\n",
    "\n",
    "- push : put the given item to the top of the stack : O(1)\n",
    "- pop : we take the last item we have inserted to the top of the stack : O(1)\n",
    "- peek : return the item form the top of the stack without removing : O(1)\n",
    "\n",
    "# Applications\n",
    "\n",
    "- stack-oriented programming language ( operation 이 스택구조로 되어있음)\n",
    "- Graph algorithms : depth-first search can be implemented with stacks\n",
    "- finding euler-cycles in a graph\n",
    "- finding strongly connected componets in a graph\n",
    "\n",
    "# Stack Memory\n",
    "\n",
    "다시 쓸수 없음\n",
    "\n",
    "- most important application of stacks : stack memory\n",
    "- it is a specail region of the memory (in the ram)\n",
    "- a call stack is an abstract data type that store information about the actvie subroutines/ methos/ functions of computer program\n",
    "- the details are normally hidden and automatic in high-level languages\n",
    "- it keeps track of the point to which each active subroutine should return control whin it finishes executing\n",
    "- stores temporary varialbes created by each function\n",
    "\n",
    "- every time a function declares a new variable it is pushed onto the stack\n",
    "- every time a function exits all of the varaible - pushed onto the stack by that function - are fredd -> all of its varables are popped off of the stack // and lost forever\n",
    "- local variables: they are on the stack, after function returns they are lost\n",
    "- stack memory is limited\n",
    "\n",
    "\n",
    "# Heap memory\n",
    "\n",
    "다시 쓸수 있음 포인터 로  \n",
    "\n",
    "- the heap is region of memory that is not managed automatically for you\n",
    "- this is a large region of memory // unlike stack memory\n",
    "- C : malloc() and calloc() function\n",
    "- java : reference types and objects are on the heap\n",
    "- we have to deallocate these memory chunks: beacuase it is not managed automatically\n",
    "- if not : memory leak\n",
    "- slower because of the pointers\n",
    "\n",
    "# Stack and Recursion\n",
    "\n",
    "- there are several situations when recursive methods are quite handy\n",
    "- all the recursive algorithms can be transformed into a simple method with stack\n",
    "- IMPORTANT : if we use recursion the os will use stacks anyways (stack overflow)"
   ]
  },
  {
   "cell_type": "code",
   "execution_count": 21,
   "metadata": {
    "collapsed": true
   },
   "outputs": [],
   "source": [
    "class Stack(object):\n",
    "    \n",
    "    def __init__(self):\n",
    "        self.stack = []\n",
    "        self.numOfItems = 0\n",
    "        \n",
    "    def isEmpty(self):\n",
    "        return self.stack == []\n",
    "    \n",
    "    def push(self,data):\n",
    "        self.stack.insert(self.numOfItems, data)\n",
    "        self.numOfItems += 1\n",
    "        \n",
    "    def pop(self):\n",
    "        self.numOfItems -= 1\n",
    "        data = self.stack.pop(self.numOfItems)\n",
    "        return data\n",
    "    \n",
    "    def size2(self):\n",
    "        return len(self.stack)\n",
    "        "
   ]
  },
  {
   "cell_type": "code",
   "execution_count": 23,
   "metadata": {
    "collapsed": false
   },
   "outputs": [
    {
     "data": {
      "text/plain": [
       "4"
      ]
     },
     "execution_count": 23,
     "metadata": {},
     "output_type": "execute_result"
    }
   ],
   "source": [
    "stack = Stack()\n",
    "stack.isEmpty()\n",
    "stack.push(1)\n",
    "stack.push(2)\n",
    "stack.push(3)\n",
    "stack.push(4)\n",
    "stack.size2()"
   ]
  },
  {
   "cell_type": "code",
   "execution_count": 24,
   "metadata": {
    "collapsed": false
   },
   "outputs": [
    {
     "data": {
      "text/plain": [
       "4"
      ]
     },
     "execution_count": 24,
     "metadata": {},
     "output_type": "execute_result"
    }
   ],
   "source": [
    "stack.pop()"
   ]
  },
  {
   "cell_type": "code",
   "execution_count": 27,
   "metadata": {
    "collapsed": false,
    "scrolled": true
   },
   "outputs": [
    {
     "data": {
      "text/plain": [
       "[1, 2, 3]"
      ]
     },
     "execution_count": 27,
     "metadata": {},
     "output_type": "execute_result"
    }
   ],
   "source": [
    "stack.stack"
   ]
  },
  {
   "cell_type": "markdown",
   "metadata": {},
   "source": [
    "# Queue\n",
    "\n",
    "## Application\n",
    "\n",
    "- when a resource is shared with several consumers (threads) : we stroe them in a queue ex) cpu scheduling\n",
    "- when data is transferred asynchronously (dat not necessarily received at same rate as sent) between two precesses ex) io buffer\n",
    "- opoerational research application or stochastic models relies heavily on queues"
   ]
  },
  {
   "cell_type": "code",
   "execution_count": 36,
   "metadata": {
    "collapsed": true
   },
   "outputs": [],
   "source": [
    "class Queue():\n",
    "    \n",
    "    def __init__(self):\n",
    "        self.queue = []\n",
    "        \n",
    "    def isEmpty(self):\n",
    "        return self.qeuue == []\n",
    "    \n",
    "    def enqueue(self, data):\n",
    "        self.queue.insert(0, data)\n",
    "        \n",
    "    def dequeue(self):\n",
    "        return self.queue.pop()\n",
    "    \n",
    "    def size2(self):\n",
    "        return len(self.queue)\n",
    "    "
   ]
  },
  {
   "cell_type": "code",
   "execution_count": 41,
   "metadata": {
    "collapsed": false
   },
   "outputs": [
    {
     "data": {
      "text/plain": [
       "['daniel2', 'daniel2', 'daniel3']"
      ]
     },
     "execution_count": 41,
     "metadata": {},
     "output_type": "execute_result"
    }
   ],
   "source": [
    "queue = Queue()\n",
    "queue.enqueue(\"danielf\")\n",
    "queue.enqueue(\"daniel3\")\n",
    "queue.enqueue(\"daniel2\")\n",
    "queue.enqueue(\"daniel2\")\n",
    "\n",
    "queue.dequeue()\n",
    "\n",
    "queue.size2()\n",
    "queue.queue"
   ]
  },
  {
   "cell_type": "markdown",
   "metadata": {},
   "source": [
    "# Python list 복잡도\n",
    "\n",
    "# pop() with no index is O(1), with index, e.g. the first on list, it is O(n). since you need to get the item O(1) and then delete it. The latter takes O(n) time in order to arrange all the other items on the list."
   ]
  }
 ],
 "metadata": {
  "kernelspec": {
   "display_name": "Python 3",
   "language": "python",
   "name": "python3"
  },
  "language_info": {
   "codemirror_mode": {
    "name": "ipython",
    "version": 3
   },
   "file_extension": ".py",
   "mimetype": "text/x-python",
   "name": "python",
   "nbconvert_exporter": "python",
   "pygments_lexer": "ipython3",
   "version": "3.5.2"
  }
 },
 "nbformat": 4,
 "nbformat_minor": 0
}
